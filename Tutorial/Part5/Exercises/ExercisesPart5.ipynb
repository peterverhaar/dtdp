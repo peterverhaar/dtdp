{
 "cells": [
  {
   "cell_type": "markdown",
   "metadata": {},
   "source": [
    "# Exercise 5.1\n",
    "\n",
    "The code below demonstrates the use of the methods sent_tokenize() and word_tokenize() from the nltk module. The code calculates data about the number of words and the number of sentences in the opening paragraph from Hemingways novel *A Farewell to Arms*. Try to change the code in such a way that it can be used to produce counts of the number of sentences and the number of words in your own corpus. "
   ]
  },
  {
   "cell_type": "code",
   "execution_count": null,
   "metadata": {},
   "outputs": [],
   "source": [
    "import nltk\n",
    "from nltk.tokenize import sent_tokenize, word_tokenize\n",
    "\n",
    "quote = '''\n",
    "In the late summer of that year we lived in a house in a village that looked across the river and the plain to the mountains. In the bed of the river there were pebbles and boulders, dry and white in the sun, and the water was clear and swiftly moving and blue in the channels. Troops went by the house and down the road and the dust they raised powdered the leaves of the trees. The trunks of the trees too were dusty and the leaves fell early that year and we saw the troops marching along the road and the dust rising and leaves, stirred by the breeze, falling and the soldiers marching and afterward the road bare and white except for the leaves.\n",
    "'''\n",
    "\n",
    "words = word_tokenize(quote)\n",
    "\n",
    "for w in words:\n",
    "    print(w)\n",
    "\n",
    "print( len(words) )\n",
    "\n",
    "sentences = sent_tokenize(quote)\n",
    "\n",
    "print( len(sentences) )\n",
    "\n",
    "for s in sentences:\n",
    "    print(s)\n"
   ]
  },
  {
   "attachments": {},
   "cell_type": "markdown",
   "metadata": {},
   "source": [
    "## Exercise 5.2\n",
    "\n",
    "The code below demonstrates the use of the function pos_tag(), which can be used to generate part of speech tags. Using the code below as a basis, try to produce counts of the number of nouns in the text (either singular or plural). The codes for nouns are 'NN', 'NNP', 'NNS' and 'NNPS'. See also https://www.ling.upenn.edu/courses/Fall_2003/ling001/penn_treebank_pos.html"
   ]
  },
  {
   "cell_type": "code",
   "execution_count": null,
   "metadata": {},
   "outputs": [],
   "source": [
    "import nltk\n",
    "\n",
    "quote = '''\n",
    "The studio was filled with the rich odour of roses, and when the light summer wind stirred amidst the trees of the garden, there came through the open door the heavy scent of the lilac, or the more delicate perfume of the pink-flowering thorn.\n",
    "'''\n",
    "\n",
    "words = word_tokenize(quote)\n",
    "pos = nltk.pos_tag(words)\n",
    "\n",
    "for p in pos:\n",
    "    print(p[0] + ' => ' + p[1] )\n"
   ]
  },
  {
   "cell_type": "markdown",
   "metadata": {},
   "source": [
    "# Exercise 5.3\n",
    "\n",
    "Lemmatisation is a process in which the conjugated forms of the words that are found in a text are converted to their base dictionary form. This base form is referred to as the lemma. Using the code below as a basis, try to produce a lemmatised version of one of the texts in your own corpus."
   ]
  },
  {
   "cell_type": "code",
   "execution_count": null,
   "metadata": {},
   "outputs": [],
   "source": [
    "import nltk\n",
    "from nltk.stem import WordNetLemmatizer\n",
    "import dtdpTdm as dtdp\n",
    "import re\n",
    "\n",
    "lemmatiser = WordNetLemmatizer()\n",
    "\n",
    "quote = \"It was the best of times, it was the worst of times\"\n",
    "\n",
    "words = dtdp.tokenise(quote)\n",
    "pos = nltk.pos_tag(words)\n",
    "\n",
    "for i in range( 0 , len(words) ):\n",
    "    posTag = ''\n",
    "    if re.search( '^v' ,  pos[i][1] , re.IGNORECASE ):\n",
    "        posTag = 'v'\n",
    "    elif re.search( '^j', pos[i][1] , re.IGNORECASE ):\n",
    "        posTag = 'a'\n",
    "        \n",
    "\n",
    "    if posTag == 'v' or posTag == 'v':\n",
    "        print( words[i] + ' => ' + \n",
    "           lemmatiser.lemmatize( words[i] , posTag ) )\n",
    "    else:\n",
    "        print( words[i] + ' => ' + \n",
    "            lemmatiser.lemmatize( words[i] ) )\n"
   ]
  },
  {
   "cell_type": "code",
   "execution_count": null,
   "metadata": {},
   "outputs": [],
   "source": []
  }
 ],
 "metadata": {
  "kernelspec": {
   "display_name": "Python 3",
   "language": "python",
   "name": "python3"
  },
  "language_info": {
   "codemirror_mode": {
    "name": "ipython",
    "version": 3
   },
   "file_extension": ".py",
   "mimetype": "text/x-python",
   "name": "python",
   "nbconvert_exporter": "python",
   "pygments_lexer": "ipython3",
   "version": "3.7.2"
  }
 },
 "nbformat": 4,
 "nbformat_minor": 2
}
