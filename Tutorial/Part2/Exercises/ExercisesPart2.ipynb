{
 "cells": [
  {
   "cell_type": "markdown",
   "metadata": {},
   "source": [
    "# Exrcise 2.1\n",
    "\n",
    "The list below contains the titles of first twelve plays written by William Shakespeare."
   ]
  },
  {
   "cell_type": "code",
   "execution_count": 8,
   "metadata": {},
   "outputs": [],
   "source": [
    "\n",
    "plays = [ 'Comedy of Errors' ,\n",
    "'Henry VI, Part I' ,\n",
    "'Henry VI, Part II' ,\n",
    "'Henry VI, Part III' ,\n",
    "'Richard III' ,\n",
    "'Taming of the Shrew' ,\n",
    "'Titus Andronicus' ,\n",
    "'Romeo and Juliet' ,\n",
    "'Two Gentlemen of Verona' ,\n",
    "'Love\\'s Labour\\'s Lost' ,\n",
    "'Richard II' ,\n",
    "'Midsummer Night\\'s Dream' ]\n"
   ]
  },
  {
   "cell_type": "markdown",
   "metadata": {},
   "source": [
    "Add the following five titles to this list:\n",
    " \n",
    "* Macbeth\n",
    "* Othello\n",
    "* Romeo and Juliet\n",
    "* Timon of Athens\n",
    "* Titus Andronicus\n",
    "\n",
    "Next, count the number of plays in this list and print the titles of the first and the last plays in the list, using the index of this item. \n",
    "\n",
    "Print the full list in alphabetical order using the ‘for’ keyword.\n"
   ]
  },
  {
   "cell_type": "code",
   "execution_count": null,
   "metadata": {},
   "outputs": [],
   "source": []
  },
  {
   "cell_type": "markdown",
   "metadata": {},
   "source": [
    "# Exercise 2.2\n",
    "\n",
    "Convert the following quotation from E.M. Forster’s A Room with a View to a list of words, using the split() method. Use this list to give information about the total number of words in this quote, and the number of occurrences of the word “place”."
   ]
  },
  {
   "cell_type": "code",
   "execution_count": null,
   "metadata": {},
   "outputs": [],
   "source": [
    "quote = \"We cast a shadow on something wherever we stand, and it is no good moving from place to place to save things; because the shadow always follows. Choose a place where you won’t do harm - yes, choose a place where you won’t do very much harm, and stand in it for all you are worth, facing the sunshine.\"\n",
    "\n"
   ]
  },
  {
   "cell_type": "markdown",
   "metadata": {},
   "source": [
    "# Exercise 2.3\n",
    "\n",
    "The code below creates a new dictionary. This dictionary connects a number of ISBNs to the titles of the books they identify.\n",
    "\n",
    "* Add the novel 'Zero K' to the dictionary. This novel has ISBN13 9781501138072.\n",
    "* Write some code which can print the title that corresponds to ISBN 9781447289395. \n",
    "* Print a list of all the novels. Display both the ISBN and the title. "
   ]
  },
  {
   "cell_type": "code",
   "execution_count": null,
   "metadata": {},
   "outputs": [],
   "source": [
    "isbn = {\n",
    "9780143105985 : 'White Noise' ,\n",
    "9780241984536 : 'Libra' ,\n",
    "9781925480665 : 'Mao II' ,\n",
    "9781447289395 : 'Underworld' ,\n",
    "9780743595728 : 'The Body Artist' ,\n",
    "9781925480665 : 'Cosmopolis' ,\n",
    "9780330524919 : 'Falling man' ,\n",
    "9781439169971 : 'Point Omega'\n",
    "}\n"
   ]
  },
  {
   "attachments": {},
   "cell_type": "markdown",
   "metadata": {},
   "source": [
    "# Exercise 2.4\n",
    "\n",
    "Copy the code below in your code editor. Using the dictionary ‘eu’, print a sentence which gives information about the current number of countries in the EU. Add some code which can print a list of all the countries of the EU in alphabetical order. Finally, print a list of all the capitals of these countries, also in alphabetical order."
   ]
  },
  {
   "cell_type": "code",
   "execution_count": null,
   "metadata": {},
   "outputs": [],
   "source": [
    "\n",
    "eu = {\n",
    "    'Italy':'Rome' , \n",
    "    'Luxembourg':'Luxembourg' , \n",
    "    'Belgium':'Brussels' , \n",
    "    'Denmark':'Copenhagen' , \n",
    "    'Finland':'Helsinki' , \n",
    "    'France':'Paris' , \n",
    "    'Slovakia':'Bratislava' , \n",
    "    'Slovenia':'Ljubljana' , \n",
    "    'Germany':'Berlin' , \n",
    "    'Greece':'Athens' , \n",
    "    'Ireland':'Dublin' , \n",
    "    'Netherlands':'Amsterdam' , \n",
    "    'Portugal':'Lisbon' , \n",
    "    'Spain':'Madrid' , \n",
    "    'Sweden':'Stockholm' , \n",
    "    'United Kingdom':'London' , \n",
    "    'Cyprus':'Nicosia' , \n",
    "    'Lithuania':'Vilnius' , \n",
    "    'Czech Republic':'Prague' , \n",
    "    'Estonia':'Tallin' , \n",
    "    'Hungary':'Budapest' , \n",
    "    'Latvia':'Riga' , \n",
    "    'Malta':'Valetta' , \n",
    "    'Austria':'Vienna' , \n",
    "    'Poland':'Warsaw' , \n",
    "    'Croatia':'Zagreb' ,\n",
    "    'Romania':'Bucharest' , \n",
    "    'Bulgaria':'Sofia' }\n",
    "\n"
   ]
  },
  {
   "attachments": {},
   "cell_type": "markdown",
   "metadata": {},
   "source": [
    "# Exercise 2.5\n",
    "\n",
    "Using the dictionary ‘data’ below, print the following sentence: “Louis Elsevier was a printer. He was born in 1540 in Leuven and died in 1617 in Leiden.”\n"
   ]
  },
  {
   "cell_type": "code",
   "execution_count": null,
   "metadata": {},
   "outputs": [],
   "source": [
    "data = dict()\n",
    "\n",
    "data[\"firstName\"] = 'louis'\n",
    "data[\"lastName\"] = 'elsevier'\n",
    "data[\"profession\"] = 'printer'\n",
    "data[\"yob\"] = 1540\n",
    "data[\"yod\"] = 1617\n",
    "data[\"pob\"] = 'leuven'\n",
    "data[\"pod\"] = 'leiden'\n"
   ]
  },
  {
   "cell_type": "markdown",
   "metadata": {},
   "source": [
    "# Exercise 2.6\n",
    "\n",
    "Download the text of Sonnet 116 by William Shakespeare. It can be downloaded from the following URL: https://raw.githubusercontent.com/peterverhaar/dtdp/master/Texts/sonnet116.txt\n",
    "\n",
    "Write code which can generate line numbers. The output should look as follows:\n",
    "\n",
    "1.\tLet me not to the marriage of true minds\n",
    "2.\tAdmit impediments. Love is not love\n",
    "3.\tWhich alters when it alteration finds,\n",
    "4.\tOr bends with the remover to remove:\n",
    "[…]\n",
    "\n"
   ]
  },
  {
   "cell_type": "code",
   "execution_count": null,
   "metadata": {},
   "outputs": [],
   "source": []
  },
  {
   "cell_type": "markdown",
   "metadata": {},
   "source": [
    "# Exercise 2.7\n",
    "\n",
    "Using the file containing the text of Sonnet 116, create a new file named ‘data.txt’, which gives information about the following:\n",
    "\n",
    "* The total number of characters in the file\n",
    "* The number of lines\n",
    "* The average number of characters per line\n",
    "* The longest line of the sonnet (i.e. the line with the highest number of characters)\n",
    "\n",
    "The average number of characters per line can be calculated by dividing the total number of characters by the number of lines.\n"
   ]
  },
  {
   "cell_type": "code",
   "execution_count": null,
   "metadata": {},
   "outputs": [],
   "source": []
  },
  {
   "cell_type": "markdown",
   "metadata": {},
   "source": [
    "# Exercise 2.8\n",
    "\n",
    "Calculate the same data for the poem The Love Song of J. Alfred Prufrock by T.S. Eliot (https://raw.githubusercontent.com/peterverhaar/dtdp/master/Texts/Prufrock.txt), but ignore all the empty lines (those lines in which the number of characters is zero)."
   ]
  },
  {
   "cell_type": "code",
   "execution_count": null,
   "metadata": {},
   "outputs": [],
   "source": []
  },
  {
   "cell_type": "markdown",
   "metadata": {},
   "source": [
    "# Exercise 2.9\n",
    "\n",
    "Download the full text of E.M. Forster’s novel A Room with a View from https://raw.githubusercontent.com/peterverhaar/dtdp/master/Texts/ARoomwithAView.txt\n",
    "\n",
    "Write code which can find the 100 words that are used most frequently in the novel. In this program, it can be useful to use the break statement, which can terminate a loop. The data must be written to a file named ‘mostFrequentWords.txt’\n",
    "\n",
    "You can use listing 2.10 from the Python tutorial as inspiration. \n",
    "\n",
    "You will probably notice that the results of the code are not fully satisfactory at this point. \n",
    "\n",
    "* Which problems do you see? \n",
    "* What is the cause of these problems? \n",
    "* What can be changed in the code to improve the results? Various solutions are possible. \n"
   ]
  },
  {
   "cell_type": "code",
   "execution_count": null,
   "metadata": {},
   "outputs": [],
   "source": []
  }
 ],
 "metadata": {
  "kernelspec": {
   "display_name": "Python 3",
   "language": "python",
   "name": "python3"
  },
  "language_info": {
   "codemirror_mode": {
    "name": "ipython",
    "version": 3
   },
   "file_extension": ".py",
   "mimetype": "text/x-python",
   "name": "python",
   "nbconvert_exporter": "python",
   "pygments_lexer": "ipython3",
   "version": "3.7.2"
  }
 },
 "nbformat": 4,
 "nbformat_minor": 2
}
