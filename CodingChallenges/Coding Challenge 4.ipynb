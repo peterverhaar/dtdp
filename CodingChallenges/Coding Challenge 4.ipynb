{
 "cells": [
  {
   "cell_type": "code",
   "execution_count": 4,
   "metadata": {},
   "outputs": [
    {
     "name": "stdout",
     "output_type": "stream",
     "text": [
      "Analysing ARoomWithaView.txt ... \n",
      "Analysing ATaleofTwoCities.txt ... \n",
      "Analysing HeartofDarkness.txt ... \n",
      "Analysing Ivanhoe.txt ... \n",
      "Analysing MobyDick.txt ... \n",
      "Analysing PrideandPrejudice.txt ... \n",
      "Analysing SonsandLovers.txt ... \n",
      "Analysing ThroughtheLookingGlass.txt ... \n",
      "Analysing TreasureIsland.txt ... \n",
      "Analysing VanityFair.txt ... \n"
     ]
    }
   ],
   "source": [
    "import dtdpTdm as dtdp\n",
    "import os\n",
    "import re\n",
    "from os.path import join\n",
    "\n",
    "dir = 'Corpus'\n",
    "\n",
    "out = open( 'data.csv' , 'w' )\n",
    "\n",
    "out.write( 'title,tokens,sentences,syllables\\n' )\n",
    "\n",
    "for file in os.listdir( dir ):\n",
    "    if re.search( r'[.]txt' , file ):\n",
    "        out.write( file )\n",
    "        print( \"Analysing \" + file + \" ... \" )\n",
    "        out.write( ',')\n",
    "        fullPath = join( dir , file )\n",
    "        out.write( str( dtdp.numberOfTokens( fullPath ) )) \n",
    "        out.write( ',')\n",
    "        out.write( str( dtdp.numberOfSentences( fullPath ) )) \n",
    "        out.write( ',')      \n",
    "        out.write( str( dtdp.numberOfSyllables( fullPath ) )) \n",
    "        out.write( '\\n')\n",
    "        \n",
    "out.close()"
   ]
  },
  {
   "cell_type": "code",
   "execution_count": 20,
   "metadata": {},
   "outputs": [
    {
     "data": {
      "image/png": "[encoded data removed]",
      "text/plain": [
       "<Figure size 720x360 with 1 Axes>"
      ]
     },
     "metadata": {},
     "output_type": "display_data"
    }
   ],
   "source": [
    "import pandas as pd\n",
    "\n",
    "df = pd.read_csv( 'data.csv' )\n",
    "\n",
    "colours = []\n",
    "\n",
    "for index , column in df.iterrows():\n",
    "    if column['genre'] == 'history':\n",
    "        colours.append('red')\n",
    "    elif column['genre'] == 'gothic':\n",
    "        colours.append('blue')\n",
    "    else:\n",
    "        colours.append('green')\n",
    "\n",
    "\n",
    "\n",
    "\n",
    "import matplotlib.pyplot as plt\n",
    "\n",
    "\n",
    "plt.style.use('seaborn-whitegrid')\n",
    "\n",
    "fig = plt.figure( figsize=( 10 , 5 ) )\n",
    "ax = plt.axes()\n",
    "ax.scatter( df['tokens'] / df['sentences'] , df['syllables']  / df['tokens']   , alpha=0.8, s=30, label=None , c = colours )\n",
    "ax.set_xlabel('Sentences')\n",
    "ax.set_ylabel('Syllables')\n",
    "\n",
    "\n",
    "ax.set_title( 'IMDB data')\n",
    "\n",
    "'''\n",
    "for index , column in df.iterrows():\n",
    "    ax.annotate( column['title'] , ( df['tokens'] / df['sentences'] , df['syllables']  / df['tokens']  ) )\n",
    "'''\n",
    "\n",
    "plt.show()"
   ]
  },
  {
   "cell_type": "code",
   "execution_count": null,
   "metadata": {},
   "outputs": [],
   "source": []
  }
 ],
 "metadata": {
  "kernelspec": {
   "display_name": "Python 3",
   "language": "python",
   "name": "python3"
  },
  "language_info": {
   "codemirror_mode": {
    "name": "ipython",
    "version": 3
   },
   "file_extension": ".py",
   "mimetype": "text/x-python",
   "name": "python",
   "nbconvert_exporter": "python",
   "pygments_lexer": "ipython3",
   "version": "3.7.2"
  }
 },
 "nbformat": 4,
 "nbformat_minor": 2
}
